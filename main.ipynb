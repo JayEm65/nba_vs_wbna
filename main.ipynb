{
 "cells": [
  {
   "cell_type": "code",
   "execution_count": 1,
   "metadata": {},
   "outputs": [],
   "source": [
    "import sys\n",
    "import os\n",
    "\n",
    "# Adding project root directory to PYTHONPATH\n",
    "project_root = os.path.abspath(os.path.join(os.path.dirname(os.getcwd()), 'project'))\n",
    "sys.path.insert(0, project_root)"
   ]
  },
  {
   "cell_type": "code",
   "execution_count": 2,
   "metadata": {},
   "outputs": [],
   "source": [
    "from data_extraction.nba import extract_nba_player_salaries, extract_nba_team_salaries\n",
    "from data_extraction.wnba import extract_wnba_player_salaries, extract_wnba_team_salaries"
   ]
  },
  {
   "cell_type": "code",
   "execution_count": 3,
   "metadata": {},
   "outputs": [
    {
     "name": "stdout",
     "output_type": "stream",
     "text": [
      "Successfully fetched the webpage: https://hoopshype.com/salaries/players/2023-2024/\n",
      "Headers found: ['', 'Player', '2023/24', '2023/24(*)']\n",
      "Data successfully scraped and saved to NEW_nba_player_salaries.csv\n"
     ]
    }
   ],
   "source": [
    "# NBA Player Salaries\n",
    "extract_nba_player_salaries(\"https://hoopshype.com/salaries/players/2023-2024/\", 'NEW_nba_player_salaries.csv')"
   ]
  },
  {
   "cell_type": "code",
   "execution_count": 4,
   "metadata": {},
   "outputs": [
    {
     "name": "stdout",
     "output_type": "stream",
     "text": [
      "Successfully fetched the webpage: https://hoopshype.com/salaries/2023-2024/\n",
      "Headers found: ['', 'Team', '2023/24', '2023/24(*)']\n",
      "Data successfully scraped and saved to NEW_nba_team_salaries.csv\n"
     ]
    }
   ],
   "source": [
    "# NBA Team Salaries\n",
    "extract_nba_team_salaries(\"https://hoopshype.com/salaries/2023-2024/\", 'NEW_nba_team_salaries.csv')"
   ]
  },
  {
   "cell_type": "code",
   "execution_count": 5,
   "metadata": {},
   "outputs": [
    {
     "name": "stdout",
     "output_type": "stream",
     "text": [
      "Successfully fetched the webpage: https://herhoopstats.com/salary-cap-sheet/wnba/players/salary_2024/stats_2024/\n",
      "Data successfully scraped and saved to NEW_wnba_player_salaries.csv\n"
     ]
    }
   ],
   "source": [
    "# WNBA Player Salaries (cleaned)\n",
    "extract_wnba_player_salaries(\"https://herhoopstats.com/salary-cap-sheet/wnba/players/salary_2024/stats_2024/\", 'NEW_wnba_player_salaries.csv')"
   ]
  },
  {
   "cell_type": "code",
   "execution_count": 6,
   "metadata": {},
   "outputs": [
    {
     "name": "stdout",
     "output_type": "stream",
     "text": [
      "Successfully fetched the webpage: https://herhoopstats.com/salary-cap-sheet/wnba/summary/2024/\n",
      "Headers found: ['Team', 'Total Salaries', 'Total Players', 'Cap Room', 'Guaranteed Salaries']\n",
      "Filtering to keep columns: ['Team', 'Total Salaries']\n",
      "Data successfully scraped and saved to NEW_wnba_team_salaries.csv\n"
     ]
    }
   ],
   "source": [
    "# WNBA Team Salaries (Keep only \"Team\" and \"Total Salaries\" columns)\n",
    "extract_wnba_team_salaries(\"https://herhoopstats.com/salary-cap-sheet/wnba/summary/2024/\", 'NEW_wnba_team_salaries.csv')"
   ]
  }
 ],
 "metadata": {
  "kernelspec": {
   "display_name": "Python 3",
   "language": "python",
   "name": "python3"
  },
  "language_info": {
   "codemirror_mode": {
    "name": "ipython",
    "version": 3
   },
   "file_extension": ".py",
   "mimetype": "text/x-python",
   "name": "python",
   "nbconvert_exporter": "python",
   "pygments_lexer": "ipython3",
   "version": "3.12.6"
  }
 },
 "nbformat": 4,
 "nbformat_minor": 2
}
