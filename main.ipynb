{
 "cells": [
  {
   "cell_type": "code",
   "execution_count": null,
   "metadata": {},
   "outputs": [],
   "source": [
    "import sys\n",
    "import os\n",
    "\n",
    "# Add the current directory to PYTHONPATH (assuming main.ipynb is at the same directory level as data_extraction folder)\n",
    "project_root = os.path.abspath(os.path.join(os.getcwd()))\n",
    "sys.path.insert(0, project_root)\n",
    "\n",
    "# Import extraction functions\n",
    "from data_extraction.nba import extract_nba_player_salaries, extract_nba_team_salaries\n",
    "from data_extraction.wnba import extract_wnba_player_salaries, extract_wnba_team_salaries\n",
    "\n",
    "# Import the new functions for calculating PER\n",
    "from data_extraction._offensive_per_wnba import calculate_and_save_offensive_per\n",
    "from data_extraction._defensive_per_wnba import calculate_and_save_defensive_per\n",
    "\n",
    "# Extract NBA player salaries\n",
    "extract_nba_player_salaries(\"https://hoopshype.com/salaries/players/2023-2024/\", 'nba_player_salaries_2024.csv')\n",
    "\n",
    "# Extract NBA team salaries\n",
    "extract_nba_team_salaries(\"https://hoopshype.com/salaries/2023-2024/\", 'nba_team_salaries_2024.csv')\n",
    "\n",
    "# Extract WNBA player salaries\n",
    "extract_wnba_player_salaries(\"https://herhoopstats.com/salary-cap-sheet/wnba/players/salary_2024/stats_2024/\", 'wnba_player_salaries_2024.csv')\n",
    "\n",
    "# Extract WNBA team salaries\n",
    "extract_wnba_team_salaries(\"https://herhoopstats.com/salary-cap-sheet/wnba/summary/2024/\", 'wnba_team_salaries_2024.csv')\n",
    "\n",
    "# Calculate and save Offensive PER for WNBA players\n",
    "calculate_and_save_offensive_per(\"https://herhoopstats.com/salary-cap-sheet/wnba/players/salary_2024/stats_2024/\", \"wnba_top_50_offensive_per.csv\")\n",
    "\n",
    "# Calculate and save Defensive PER for WNBA players\n",
    "calculate_and_save_defensive_per(\"https://herhoopstats.com/salary-cap-sheet/wnba/players/salary_2024/stats_2024/\", \"wnba_top_50_defensive_per.csv\")"
   ]
  },
  {
   "cell_type": "code",
   "execution_count": null,
   "metadata": {},
   "outputs": [],
   "source": [
    "# Converting to NUMERIC placeholder:\n",
    "\n",
    "\"\"\"import pandas as pd\n",
    "\n",
    "# Loading CSV:\n",
    "df = pd.read_csv('wnba_player_salaries_2024.csv')\n",
    "\n",
    "# Convert Salary column to numeric:\n",
    "df = df[df['2024 Salary'].str.startswith('$', na=False)]\n",
    "df['2024 Salary'] = df['2024 Salary'].replace(r'[\\$,]', '', regex=True).astype(float)\n",
    "\n",
    "# Remove duplicates, keep highest salary:\n",
    "df_cleaned = df.sort_values('2024 Salary', ascending=False).drop_duplicates(subset=['Player'], keep='first')\n",
    "\n",
    "# Created new \"cleaned_\" CSV:\n",
    "df_cleaned.to_csv('cleaned_wnba_player_salaries_2024.csv', index=False)\n",
    "print(\"Cleaned data saved to 'cleaned_wnba_player_salaries_2024.csv'.\")\"\"\""
   ]
  }
 ],
 "metadata": {
  "kernelspec": {
   "display_name": "Python 3",
   "language": "python",
   "name": "python3"
  },
  "language_info": {
   "codemirror_mode": {
    "name": "ipython",
    "version": 3
   },
   "file_extension": ".py",
   "mimetype": "text/x-python",
   "name": "python",
   "nbconvert_exporter": "python",
   "pygments_lexer": "ipython3",
   "version": "3.12.6"
  }
 },
 "nbformat": 4,
 "nbformat_minor": 2
}
