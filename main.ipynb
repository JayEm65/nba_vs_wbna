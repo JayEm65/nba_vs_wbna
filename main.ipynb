{
 "cells": [
  {
   "cell_type": "code",
   "execution_count": 2,
   "metadata": {},
   "outputs": [
    {
     "name": "stdout",
     "output_type": "stream",
     "text": [
      "Successfully fetched the webpage: https://hoopshype.com/salaries/players/2023-2024/\n",
      "Headers found: ['', 'Player', '2023/24', '2023/24(*)']\n",
      "Data successfully scraped and saved to nba_player_salaries_2024.csv\n",
      "Successfully fetched the webpage: https://hoopshype.com/salaries/2023-2024/\n",
      "Headers found: ['', 'Team', '2023/24', '2023/24(*)']\n",
      "Data successfully scraped and saved to nba_team_salaries_2024.csv\n",
      "Successfully fetched the webpage: https://herhoopstats.com/salary-cap-sheet/wnba/players/salary_2024/stats_2024/\n",
      "Data successfully scraped and saved to wnba_player_salaries_2024.csv\n",
      "Successfully fetched the webpage: https://herhoopstats.com/salary-cap-sheet/wnba/summary/2024/\n",
      "Headers found: ['Team', 'Total Salaries', 'Total Players', 'Cap Room', 'Guaranteed Salaries']\n",
      "Filtering to keep columns: ['Team', 'Total Salaries']\n",
      "Data successfully scraped and saved to wnba_team_salaries_2024.csv\n",
      "Successfully fetched the webpage: https://herhoopstats.com/salary-cap-sheet/wnba/players/salary_2024/stats_2024/\n",
      "Initial DataFrame after extracting relevant columns (Offensive):\n",
      "             Player   PTS  AST  ORB\n",
      "0       A'ja Wilson  26.9  2.3  2.1\n",
      "1  Arike Ogunbowale  22.2  5.1  0.8\n",
      "2    Kahleah Copper  21.1  2.3  0.6\n",
      "3   Breanna Stewart  20.4  3.5  1.6\n",
      "4  Napheesa Collier  20.4  3.4  2.2\n",
      "Top 50 Offensive data with O-PER saved to 'wnba_top_50_offensive_per.csv'\n",
      "Final Cleaned Offensive DataFrame with O-PER:\n",
      "             Player   PTS  AST  ORB  O-PER\n",
      "0       A'ja Wilson  26.9  2.3  2.1   10.4\n",
      "1  Arike Ogunbowale  22.2  5.1  0.8    9.4\n",
      "2    Kahleah Copper  21.1  2.3  0.6    8.0\n",
      "3   Breanna Stewart  20.4  3.5  1.6    8.5\n",
      "4  Napheesa Collier  20.4  3.4  2.2    8.7\n",
      "Successfully fetched the webpage: https://herhoopstats.com/salary-cap-sheet/wnba/players/salary_2024/stats_2024/\n",
      "Initial DataFrame after extracting relevant columns (Defensive):\n",
      "             Player  DRB  BLK  STL\n",
      "0       A'ja Wilson  9.8  2.6  1.8\n",
      "1  Arike Ogunbowale  3.8  0.3  2.1\n",
      "2    Kahleah Copper  3.9  0.1  0.8\n",
      "3   Breanna Stewart  6.9  1.3  1.7\n",
      "4  Napheesa Collier  7.5  1.4  1.9\n",
      "Top 50 Defensive data with D-PER saved to 'wnba_top_50_defensive_per.csv'\n",
      "Final Cleaned Defensive DataFrame with D-PER:\n",
      "              Player  DRB  BLK  STL  D-PER\n",
      "0        A'ja Wilson  9.8  2.6  1.8    4.7\n",
      "29       Angel Reese  8.1  0.5  1.3    3.3\n",
      "15     Dearica Hamby  7.7  0.2  1.7    3.2\n",
      "4   Napheesa Collier  7.5  1.4  1.9    3.6\n",
      "26     Jonquel Jones  7.3  1.3  0.8    3.1\n"
     ]
    }
   ],
   "source": [
    "import sys\n",
    "import os\n",
    "\n",
    "# Add the current directory to PYTHONPATH (assuming main.ipynb is at the same directory level as data_extraction folder)\n",
    "project_root = os.path.abspath(os.path.join(os.getcwd()))\n",
    "sys.path.insert(0, project_root)\n",
    "\n",
    "# Import extraction functions\n",
    "from data_extraction.nba import extract_nba_player_salaries, extract_nba_team_salaries\n",
    "from data_extraction.wnba import extract_wnba_player_salaries, extract_wnba_team_salaries\n",
    "\n",
    "# Import the new functions for calculating PER\n",
    "from data_extraction._offensive_per_wnba import calculate_and_save_offensive_per\n",
    "from data_extraction._defensive_per_wnba import calculate_and_save_defensive_per\n",
    "\n",
    "# Extract NBA player salaries\n",
    "extract_nba_player_salaries(\"https://hoopshype.com/salaries/players/2023-2024/\", 'nba_player_salaries_2024.csv')\n",
    "\n",
    "# Extract NBA team salaries\n",
    "extract_nba_team_salaries(\"https://hoopshype.com/salaries/2023-2024/\", 'nba_team_salaries_2024.csv')\n",
    "\n",
    "# Extract WNBA player salaries\n",
    "extract_wnba_player_salaries(\"https://herhoopstats.com/salary-cap-sheet/wnba/players/salary_2024/stats_2024/\", 'wnba_player_salaries_2024.csv')\n",
    "\n",
    "# Extract WNBA team salaries\n",
    "extract_wnba_team_salaries(\"https://herhoopstats.com/salary-cap-sheet/wnba/summary/2024/\", 'wnba_team_salaries_2024.csv')\n",
    "\n",
    "# Calculate and save Offensive PER for WNBA players\n",
    "calculate_and_save_offensive_per(\"https://herhoopstats.com/salary-cap-sheet/wnba/players/salary_2024/stats_2024/\", \"wnba_top_50_offensive_per.csv\")\n",
    "\n",
    "# Calculate and save Defensive PER for WNBA players\n",
    "calculate_and_save_defensive_per(\"https://herhoopstats.com/salary-cap-sheet/wnba/players/salary_2024/stats_2024/\", \"wnba_top_50_defensive_per.csv\")"
   ]
  },
  {
   "cell_type": "code",
   "execution_count": 3,
   "metadata": {},
   "outputs": [
    {
     "name": "stderr",
     "output_type": "stream",
     "text": [
      "<>:3: SyntaxWarning: invalid escape sequence '\\$'\n",
      "<>:3: SyntaxWarning: invalid escape sequence '\\$'\n",
      "C:\\Users\\Marc Jay\\AppData\\Local\\Temp\\ipykernel_31820\\2946843670.py:3: SyntaxWarning: invalid escape sequence '\\$'\n",
      "  \"\"\"import pandas as pd\n"
     ]
    },
    {
     "data": {
      "text/plain": [
       "'import pandas as pd\\n\\n# Loading CSV:\\ndf = pd.read_csv(\\'wnba_player_salaries_2024.csv\\')\\n\\n# Convert Salary column to numeric:\\ndf = df[df[\\'2024 Salary\\'].str.startswith(\\'$\\', na=False)]\\ndf[\\'2024 Salary\\'] = df[\\'2024 Salary\\'].replace(r\\'[\\\\$,]\\', \\'\\', regex=True).astype(float)\\n\\n# Remove duplicates, keep highest salary:\\ndf_cleaned = df.sort_values(\\'2024 Salary\\', ascending=False).drop_duplicates(subset=[\\'Player\\'], keep=\\'first\\')\\n\\n# Created new \"cleaned_\" CSV:\\ndf_cleaned.to_csv(\\'cleaned_wnba_player_salaries_2024.csv\\', index=False)\\nprint(\"Cleaned data saved to \\'cleaned_wnba_player_salaries_2024.csv\\'.\")'"
      ]
     },
     "execution_count": 3,
     "metadata": {},
     "output_type": "execute_result"
    }
   ],
   "source": [
    "# Converting to NUMERIC placeholder:\n",
    "\n",
    "\"\"\"import pandas as pd\n",
    "\n",
    "# Loading CSV:\n",
    "df = pd.read_csv('wnba_player_salaries_2024.csv')\n",
    "\n",
    "# Convert Salary column to numeric:\n",
    "df = df[df['2024 Salary'].str.startswith('$', na=False)]\n",
    "df['2024 Salary'] = df['2024 Salary'].replace(r'[\\$,]', '', regex=True).astype(float)\n",
    "\n",
    "# Remove duplicates, keep highest salary:\n",
    "df_cleaned = df.sort_values('2024 Salary', ascending=False).drop_duplicates(subset=['Player'], keep='first')\n",
    "\n",
    "# Created new \"cleaned_\" CSV:\n",
    "df_cleaned.to_csv('cleaned_wnba_player_salaries_2024.csv', index=False)\n",
    "print(\"Cleaned data saved to 'cleaned_wnba_player_salaries_2024.csv'.\")\"\"\""
   ]
  }
 ],
 "metadata": {
  "kernelspec": {
   "display_name": "Python 3",
   "language": "python",
   "name": "python3"
  },
  "language_info": {
   "codemirror_mode": {
    "name": "ipython",
    "version": 3
   },
   "file_extension": ".py",
   "mimetype": "text/x-python",
   "name": "python",
   "nbconvert_exporter": "python",
   "pygments_lexer": "ipython3",
   "version": "3.12.6"
  }
 },
 "nbformat": 4,
 "nbformat_minor": 2
}
