{
 "cells": [
  {
   "cell_type": "code",
   "execution_count": 2,
   "metadata": {},
   "outputs": [
    {
     "name": "stdout",
     "output_type": "stream",
     "text": [
      "Done! - Successfully fetched the webpage.\n",
      "Data successfully scraped and saved to 'wnba_salaries_2023_2024.csv'\n"
     ]
    }
   ],
   "source": [
    "import requests\n",
    "from bs4 import BeautifulSoup\n",
    "import pandas as pd\n",
    "\n",
    "# WBNA Salary data 2023/2024:\n",
    "url = \"https://herhoopstats.com/salary-cap-sheet/wnba/players/salary_2024/stats_2023/?stats_to_show=per_game&stat_to_show=pts\"\n",
    "\n",
    "# Fetching HTML content:\n",
    "response = requests.get(url)\n",
    "if response.status_code == 200:\n",
    "    print(\"Done! - Successfully fetched the webpage.\")\n",
    "else:\n",
    "    print(f\"Failed to fetch the webpage: {response.status_code}\")\n",
    "\n",
    "# Parsing HTML content:\n",
    "soup = BeautifulSoup(response.content, 'html.parser')\n",
    "\n",
    "# Inspect page and find table containing needed data (Assuming the data is in a table.):\n",
    "table = soup.find('table')\n",
    "type(table)\n",
    "\n",
    "# Extract headers:\n",
    "headers = []\n",
    "for th in table.find('thead').find_all('th'):\n",
    "    headers.append(th.text.strip())\n",
    "\n",
    "# Extract rows:\n",
    "rows = []\n",
    "for tr in table.find('tbody').find_all('tr'):\n",
    "    cells = tr.find_all('td')\n",
    "    row = [cell.text.strip() for cell in cells]\n",
    "    rows.append(row)\n",
    "\n",
    "# Create DataFrame\n",
    "df = pd.DataFrame(rows, columns=headers)\n",
    "\n",
    "# Save data to CSV:\n",
    "df.to_csv('wnba_salaries_2023_2024.csv', index=False)\n",
    "\n",
    "print(\"Data successfully scraped and saved to 'wnba_salaries_2023_2024.csv'\")\n"
   ]
  },
  {
   "cell_type": "code",
   "execution_count": 6,
   "metadata": {},
   "outputs": [
    {
     "data": {
      "text/plain": [
       "bs4.element.Tag"
      ]
     },
     "execution_count": 6,
     "metadata": {},
     "output_type": "execute_result"
    }
   ],
   "source": [
    "type(table)"
   ]
  },
  {
   "cell_type": "code",
   "execution_count": null,
   "metadata": {},
   "outputs": [],
   "source": []
  }
 ],
 "metadata": {
  "kernelspec": {
   "display_name": "Python 3 (ipykernel)",
   "language": "python",
   "name": "python3"
  },
  "language_info": {
   "codemirror_mode": {
    "name": "ipython",
    "version": 3
   },
   "file_extension": ".py",
   "mimetype": "text/x-python",
   "name": "python",
   "nbconvert_exporter": "python",
   "pygments_lexer": "ipython3",
   "version": "3.12.6"
  }
 },
 "nbformat": 4,
 "nbformat_minor": 4
}
