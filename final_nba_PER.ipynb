{
 "cells": [
  {
   "cell_type": "code",
   "execution_count": 1,
   "metadata": {},
   "outputs": [
    {
     "name": "stdout",
     "output_type": "stream",
     "text": [
      "Successfully fetched the webpage: https://www.teamrankings.com/nba/player-stat/points\n",
      "Headers found: ['Rank', 'Player', 'Team', 'Pos', 'Value']\n",
      "Filtering to keep columns: ['Player', 'Value']\n",
      "Data successfully scraped and saved to player-stat_2024.csv\n",
      "Successfully fetched the webpage: https://www.teamrankings.com/nba/player-stat/assists\n",
      "Headers found: ['Rank', 'Player', 'Team', 'Pos', 'Value']\n",
      "Filtering to keep columns: ['Player', 'Value']\n",
      "Data successfully scraped and saved to assists_2024.csv\n",
      "Successfully fetched the webpage: https://www.teamrankings.com/nba/player-stat/rebounds-offensive\n",
      "Headers found: ['Rank', 'Player', 'Team', 'Pos', 'Value']\n",
      "Filtering to keep columns: ['Player', 'Value']\n",
      "Data successfully scraped and saved to rebounds-offensive.csv\n",
      "Successfully fetched the webpage: https://www.teamrankings.com/nba/player-stat/rebounds-defensive\n",
      "Headers found: ['Rank', 'Player', 'Team', 'Pos', 'Value']\n",
      "Filtering to keep columns: ['Player', 'Value']\n",
      "Data successfully scraped and saved to rebounds-defensive.csv\n",
      "Successfully fetched the webpage: https://www.teamrankings.com/nba/player-stat/blocks\n",
      "Headers found: ['Rank', 'Player', 'Team', 'Pos', 'Value']\n",
      "Filtering to keep columns: ['Player', 'Value']\n",
      "Data successfully scraped and saved to blocks.csv\n",
      "Successfully fetched the webpage: https://www.teamrankings.com/nba/player-stat/steals\n",
      "Headers found: ['Rank', 'Player', 'Team', 'Pos', 'Value']\n",
      "Filtering to keep columns: ['Player', 'Value']\n",
      "Data successfully scraped and saved to steals.csv\n"
     ]
    }
   ],
   "source": [
    "import requests\n",
    "from bs4 import BeautifulSoup\n",
    "import pandas as pd\n",
    "import os\n",
    "\n",
    "def extraction_webscrapping(url, output_file, header_tag, keep_columns=None):\n",
    "    response = requests.get(url)\n",
    "    if response.status_code == 200:\n",
    "        print(f\"Successfully fetched the webpage: {url}\")\n",
    "    else:\n",
    "        print(f\"Failed to fetch the webpage: {response.status_code}\")\n",
    "\n",
    "    soup = BeautifulSoup(response.content, 'html.parser')\n",
    "    table = soup.find('table')\n",
    "    headers = [th.text.strip() for th in table.find('thead').find_all(header_tag)]\n",
    "    print(f\"Headers found: {headers}\")\n",
    "\n",
    "    rows = []\n",
    "    for tr in table.find('tbody').find_all('tr'):\n",
    "        cells = tr.find_all('td')\n",
    "        row = [cell.text.strip() for cell in cells]\n",
    "        rows.append(row)\n",
    "\n",
    "    df = pd.DataFrame(rows, columns=headers)\n",
    "\n",
    "    if keep_columns:\n",
    "        print(f\"Filtering to keep columns: {keep_columns}\")\n",
    "        df = df[keep_columns]\n",
    "\n",
    "    # Drop unnecessary columns\n",
    "    df.drop(columns=['Team', 'Pos'], inplace=True, errors='ignore')\n",
    "\n",
    "    output_path = os.path.join('csv', output_file)\n",
    "    df.to_csv(output_path, index=False)\n",
    "    print(f\"Data successfully scraped and saved to {output_file}\")\n",
    "\n",
    "# Fetch and parse each required stat, keeping only the necessary columns\n",
    "extraction_webscrapping(\"https://www.teamrankings.com/nba/player-stat/points\", 'player-stat_2024.csv', 'th', ['Player', 'Value'])\n",
    "extraction_webscrapping(\"https://www.teamrankings.com/nba/player-stat/assists\", 'assists_2024.csv', 'th', ['Player', 'Value'])\n",
    "extraction_webscrapping(\"https://www.teamrankings.com/nba/player-stat/rebounds-offensive\", 'rebounds-offensive.csv', 'th', ['Player', 'Value'])\n",
    "extraction_webscrapping(\"https://www.teamrankings.com/nba/player-stat/rebounds-defensive\", 'rebounds-defensive.csv', 'th', ['Player', 'Value'])\n",
    "extraction_webscrapping(\"https://www.teamrankings.com/nba/player-stat/blocks\", 'blocks.csv', 'th', ['Player', 'Value'])\n",
    "extraction_webscrapping(\"https://www.teamrankings.com/nba/player-stat/steals\", 'steals.csv', 'th', ['Player', 'Value'])"
   ]
  },
  {
   "cell_type": "code",
   "execution_count": 2,
   "metadata": {},
   "outputs": [
    {
     "name": "stdout",
     "output_type": "stream",
     "text": [
      "Top 50 Offensive PER data saved to 'nba_top_50_offensive_per.csv'.\n",
      "Top 50 Defensive PER data saved to 'nba_top_50_defensive_per.csv'.\n"
     ]
    }
   ],
   "source": [
    "import pandas as pd\n",
    "import os\n",
    "\n",
    "def load_and_extract_all(csv_file, value_column, col_rename):\n",
    "    df = pd.read_csv(os.path.join('csv', csv_file))\n",
    "    df.rename(columns={value_column: col_rename}, inplace=True)\n",
    "    return df\n",
    "\n",
    "# Load and process data for each relevant statistic\n",
    "df_assists = load_and_extract_all('assists_2024.csv', 'Value', 'AST')\n",
    "df_player_stats = load_and_extract_all('player-stat_2024.csv', 'Value', 'PTS')\n",
    "df_OR = load_and_extract_all('rebounds-offensive.csv', 'Value', 'ORB')\n",
    "df_DRB = load_and_extract_all('rebounds-defensive.csv', 'Value', 'DRB')\n",
    "df_BLK = load_and_extract_all('blocks.csv', 'Value', 'BLK')\n",
    "df_STL = load_and_extract_all('steals.csv', 'Value', 'STL')\n",
    "\n",
    "# Ensure player names are consistent across all dataframes (trimming whitespace)\n",
    "for df in [df_assists, df_player_stats, df_OR, df_DRB, df_BLK, df_STL]:\n",
    "    df['Player'] = df['Player'].str.strip()\n",
    "\n",
    "# Merge offensive stats\n",
    "df_offense = df_player_stats.merge(df_assists, on=\"Player\", how='outer').merge(df_OR, on=\"Player\", how='outer')\n",
    "\n",
    "# Merge defensive stats\n",
    "df_defense = df_DRB.merge(df_BLK, on=\"Player\", how='outer').merge(df_STL, on=\"Player\", how='outer')\n",
    "\n",
    "# Calculate O-PER where data is not missing\n",
    "df_offense['O_PER'] = ((df_offense['PTS'].fillna(0) + df_offense['AST'].fillna(0) + df_offense['ORB'].fillna(0)) / 3).round(1)\n",
    "\n",
    "# Calculate D-PER where data is not missing\n",
    "df_defense['D_PER'] = ((df_defense['DRB'].fillna(0) + df_defense['BLK'].fillna(0) + df_defense['STL'].fillna(0)) / 3).round(1)\n",
    "\n",
    "# Retain top 50 for O-PER and D-PER after calculating\n",
    "top_50_offensive = df_offense.sort_values(by='O_PER', ascending=False).head(50)\n",
    "top_50_defensive = df_defense.sort_values(by='D_PER', ascending=False).head(50)\n",
    "\n",
    "# Save results to CSV\n",
    "top_50_offensive.to_csv('nba_top_50_offensive_per.csv', index=False)\n",
    "top_50_defensive.to_csv('nba_top_50_defensive_per.csv', index=False)\n",
    "\n",
    "print(\"Top 50 Offensive PER data saved to 'nba_top_50_offensive_per.csv'.\")\n",
    "print(\"Top 50 Defensive PER data saved to 'nba_top_50_defensive_per.csv'.\")"
   ]
  }
 ],
 "metadata": {
  "kernelspec": {
   "display_name": "Python 3",
   "language": "python",
   "name": "python3"
  },
  "language_info": {
   "codemirror_mode": {
    "name": "ipython",
    "version": 3
   },
   "file_extension": ".py",
   "mimetype": "text/x-python",
   "name": "python",
   "nbconvert_exporter": "python",
   "pygments_lexer": "ipython3",
   "version": "3.12.6"
  }
 },
 "nbformat": 4,
 "nbformat_minor": 2
}
