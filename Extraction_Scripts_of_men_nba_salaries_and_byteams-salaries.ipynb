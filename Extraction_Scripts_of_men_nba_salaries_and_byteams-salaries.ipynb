{
 "cells": [
  {
   "cell_type": "code",
   "execution_count": 6,
   "id": "87d403d3-6e4d-4a94-803f-e445f2d4d2f8",
   "metadata": {},
   "outputs": [
    {
     "name": "stdout",
     "output_type": "stream",
     "text": [
      "Done! - Successfully fetched the webpage.\n",
      "Headers found: ['', 'Team', '2023/24', '2023/24(*)']\n",
      "Data successfully scraped and saved to men_byteams_salaries_2023_2024.csv \n"
     ]
    }
   ],
   "source": [
    "import requests\n",
    "from bs4 import BeautifulSoup\n",
    "import pandas as pd\n",
    "\n",
    "\"\"\"\n",
    "    url : The url that we want to scrap\n",
    "    output_file : The name of the file with the extension ('example.csv')\n",
    "    PS : This function works only for thead containing td. (not th)\n",
    "\"\"\"\n",
    "def extraction_webscrapping(url , output_file):\n",
    "# NBA men Salaries data, by team 2023/2024:\n",
    "#url = \"https://hoopshype.com/salaries/2023-2024/\"\n",
    "\n",
    "    # Fetching HTML content:\n",
    "    response = requests.get(url)\n",
    "    if response.status_code == 200:\n",
    "        print(\"Done! - Successfully fetched the webpage.\")\n",
    "    else:\n",
    "        print(f\"Failed to fetch the webpage: {response.status_code}\")\n",
    "\n",
    "    # Parsing HTML content:\n",
    "    soup = BeautifulSoup(response.content, 'html.parser')\n",
    "\n",
    "    # Inspect page and find table containing needed data (Assuming the data is in a table.):\n",
    "    table = soup.find('table')\n",
    "\n",
    "    # Extract headers:\n",
    "    headers = []\n",
    "    for td in table.find('thead').find_all('td'):\n",
    "        headers.append(td.text.strip())\n",
    "    print(f\"Headers found: {headers}\")\n",
    "\n",
    "    # Extract rows:\n",
    "    rows = []\n",
    "    for tr in table.find('tbody').find_all('tr'):\n",
    "        cells = tr.find_all('td')\n",
    "        row = [cell.text.strip() for cell in cells]\n",
    "        rows.append(row)\n",
    "\n",
    "    # Create DataFrame\n",
    "    df = pd.DataFrame(rows, columns=headers)\n",
    "\n",
    "    # Save data to CSV:\n",
    "    output_file = 'men_byteams_salaries_2023_2024.csv'\n",
    "    df.to_csv(output_file, index=False)\n",
    "    print(f\"Data successfully scraped and saved to {output_file} \")\n",
    "\n",
    "extraction_webscrapping(\"https://hoopshype.com/salaries/players/2023-2024/\" , 'men_nba_salaries_2023_2024.csv')\n",
    "extraction_webscrapping(\"https://hoopshype.com/salaries/2023-2024/\" , 'men_byteams_salaries_2023_2024.csv')"
   ]
  },
  {
   "cell_type": "code",
   "execution_count": null,
   "id": "e6d2830a-dec9-47ca-8931-14d4a84f4023",
   "metadata": {},
   "outputs": [],
   "source": []
  }
 ],
 "metadata": {
  "kernelspec": {
   "display_name": "Python 3 (ipykernel)",
   "language": "python",
   "name": "python3"
  },
  "language_info": {
   "codemirror_mode": {
    "name": "ipython",
    "version": 3
   },
   "file_extension": ".py",
   "mimetype": "text/x-python",
   "name": "python",
   "nbconvert_exporter": "python",
   "pygments_lexer": "ipython3",
   "version": "3.11.5"
  }
 },
 "nbformat": 4,
 "nbformat_minor": 5
}
